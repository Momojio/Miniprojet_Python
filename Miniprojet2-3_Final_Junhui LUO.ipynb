{
 "cells": [
  {
   "cell_type": "markdown",
   "metadata": {},
   "source": [
    "Les étapes 2 et 3 utiliseront le tracker dlib (the correlation trackers).\n",
    "Lorsqu'il s'agit de suivre plusieurs corps humains, dlib fonctionne souvent mieux que MIL. Et la détection des visages continue d'utiliser le classificateur en cascade de haar.\n",
    "\n",
    "Il y a eu quelques problèmes lors de la construction de dlib. Puisque dlib est construit en C ++, quelques suppléments supplémentaires sont nécessaires. Mais l'environnement a été établi pour nous à Anaconda. Par conséquent, j'ai finalement utilisé conda create -n env_dlib python = 3.6 pour établir une nouvelle plate-forme pour python3.6 et terminé avec succès la construction de l'environnement dlib.\n",
    "\n",
    "Remarque: les algorithmes et les fonctions qui ont été expliqués à l'étape 1 ne seront pas répétés ici."
   ]
  },
  {
   "cell_type": "markdown",
   "metadata": {},
   "source": [
    "Commentaires en cours d'exécution:\n",
    "La détection de visage effectuée toutes les quinze images aura des blocages évidents. Et en observant les données imprimées, il peut être confondu avec un nouveau visage lors du déplacement."
   ]
  },
  {
   "cell_type": "code",
   "execution_count": 1,
   "metadata": {},
   "outputs": [],
   "source": [
    "import cv2 as cv\n",
    "import dlib"
   ]
  },
  {
   "cell_type": "code",
   "execution_count": 2,
   "metadata": {},
   "outputs": [],
   "source": [
    "face_cascade = cv.CascadeClassifier(cv.data.haarcascades + \"haarcascade_frontalface_alt.xml\")"
   ]
  },
  {
   "cell_type": "markdown",
   "metadata": {},
   "source": [
    "Dans le loop: un loop est effectuée pour chaque frame de la caméra, et un loop de détection de visage est effectuée toutes les quinze frame:\n",
    "1. Commencer par augmenter le nombre de framecounter. \n",
    "\n",
    "2. Déterminer la qualité du suivi actuel du tracker et s'il peut continuer à suivre. Sinon, supprimer le tracker. \n",
    "\n",
    "3. Loop de détection de visage toutes les 15 frame: a, détection de visage. b. Comparer les points de la détection de visage et du traqueur existants pour déterminer si le suivi correspond aux points du visage. S'il ne correspond pas, un nouveau tracker est créé. c. Créer un nouvel outil de suivi et compter le nombre de faces. \n",
    "\n",
    "4. Créer un cadre rectangulaire pour le tracker qui a été déterminé."
   ]
  },
  {
   "cell_type": "code",
   "execution_count": 3,
   "metadata": {},
   "outputs": [],
   "source": [
    "def main():\n",
    "    cap = cv.VideoCapture(1)\n",
    "    #Initialiser deux compteurs, l'un est le nombre de frames en cours d'exécution, l'autre est le nombre de faces.\n",
    "    framecounter = 0\n",
    "    faceidcounter = 0\n",
    "    #Nous avons préparé une collection de trackers pour chaque visage à l'avance pour the correlation trackers.\n",
    "    trackers = {}\n",
    "    \n",
    "    #Start loop principale\n",
    "    while True:\n",
    "        ret,frame = cap.read()\n",
    "        #Chaque loop augmentera le compteur de frame\n",
    "        framecounter += 1 \n",
    "\n",
    "        #Mettre à jour tous les trackers.\n",
    "        #Et supprimez le tracker correspondant au visage dont la qualité de suivi n'est pas bonne ou a quitté l'écran.\n",
    "        #roitodelete est une collection de trackers qui doivent être supprimés.\n",
    "        RoiToDelete = []\n",
    "        #Pour les mauvais ROI dans la collection de trackers. Nous les transférons à roitodelete.\n",
    "        for roi in trackers:\n",
    "            #Update tracker en même temps pendant ce processus.\n",
    "            Quality = trackers[roi].update(frame)\n",
    "            if Quality < 7:\n",
    "                #append () signifie ajouter le ROI à roitodelete.\n",
    "                RoiToDelete.append(roi)\n",
    "        #Démarrer le traitement du ROI dans roitodelete.\n",
    "        for roi in RoiToDelete:\n",
    "            #print est également très utile pour la vérification.\n",
    "            print(\"Removing roi \" + str(roi) + \" from list of trackers\")\n",
    "            #pop() est utilisé pour supprimer et renvoyer des éléments du tableau. La valeur par défaut est le dernier élément. \n",
    "            #Ici, notre paramètre est le ROI.\n",
    "            trackers.pop(roi)\n",
    "\n",
    "        #Toutes les quinze images, \n",
    "        #nous effectuerons à nouveau la reconnaissance faciale et confirmerons quels visages sont toujours dans l'appareil photo. \n",
    "        #if (framecounter % 15) == 0 Cela signifie que le reste après avoir divisé un nombre par 15 est égal à 0.\n",
    "        if (framecounter % 15) == 0:\n",
    "\n",
    "            gray = cv.cvtColor(frame, cv.COLOR_BGR2GRAY)\n",
    "            faces = face_cascade.detectMultiScale(gray, 1.05, 3)\n",
    "            \n",
    "            #Cette étape compare le point central de (x, y, w, h) après la reconnaissance faciale avec le point central du tracker.\n",
    "            #S'il correspond, le tracker actuel est précis. S'il ne correspond pas, un tracker est construit pour le nouveau visage.\n",
    "            #De plus, si l'ancien tracker n'est plus précis, il sera supprimé dans RoiToDelete.\n",
    "            #Bien sûr, si aucun visage n'est détecté, aucun tracker ne sera construit.\n",
    "            for (x,y,w,h) in faces:\n",
    "                \n",
    "                #Default: ne correspond pas\n",
    "                matchedroi = None\n",
    "                #calculer le point central\n",
    "                x_center = x + 0.5 * w\n",
    "                y_center = y + 0.5 * h\n",
    "        \n",
    "                #loop sur tous les trackers et vérifie si le centre du visage se trouve dans la boîte d'un tracker\n",
    "                for roi in trackers:\n",
    "                    #dlib n'est pas basé sur python, donc get_position () apparaîtra pour lire les coordonnées.\n",
    "                    tracker_position = trackers[roi].get_position()\n",
    "                    t_x = int(tracker_position.left())\n",
    "                    t_y = int(tracker_position.top())\n",
    "                    t_w = int(tracker_position.width())\n",
    "                    t_h = int(tracker_position.height())\n",
    "\n",
    "                    #calculer le point central\n",
    "                    t_x_center = t_x + 0.5 * t_w\n",
    "                    t_y_center = t_y + 0.5 * t_h\n",
    "\n",
    "                    #check si le centre du visage est dans le rectangle d'une région de suivi.\n",
    "                    #De plus, le point central de la région de suivi doit se trouver dans la région détectée en tant que visage.\n",
    "                    if ( ( t_x <= x_center   <= (t_x + t_w)) and \n",
    "                         ( t_y <= y_center   <= (t_y + t_h)) and \n",
    "                         ( x   <= t_x_center <= (x   + w  )) and \n",
    "                         ( y   <= t_y_center <= (y   + h  ))):\n",
    "                        #Obtener un match.\n",
    "                        matchedroi = roi\n",
    "\n",
    "                #S'il ne correspond pas, il est considéré comme un nouveau visage. Nous allons construire un nouveau tracker.\n",
    "                if matchedroi is None:\n",
    "                    print(\"Creating new tracker \" + str(faceidcounter))\n",
    "                    #Utiliser the correlation tracker\n",
    "                    tracker = dlib.correlation_tracker()\n",
    "                    #la boîte de the correlation tracker。\n",
    "                    tracker.start_track(frame, dlib.rectangle(x, y, x+w, y+h))\n",
    "                    #Ajoutez le tracker à la collection préparée à l'avance.\n",
    "                    trackers[faceidcounter] = tracker\n",
    "                    \n",
    "                    #Et comptez les visages.\n",
    "                    faceidcounter += 1\n",
    "\n",
    "        #Enfin, définissez un cadre rectangulaire pour tous les trackers. Cette étape est à la fin, mais pas dans la boucle de 15 images.\n",
    "        for roi in trackers:\n",
    "            tracker_position = trackers[roi].get_position()\n",
    "            t_x = int(tracker_position.left())\n",
    "            t_y = int(tracker_position.top())\n",
    "            t_w = int(tracker_position.width())\n",
    "            t_h = int(tracker_position.height())\n",
    "            cv.rectangle(frame, (t_x, t_y), (t_x + t_w , t_y + t_h), (0, 0, 255) ,2)\n",
    "\n",
    "        cv.imshow(\"Result\", frame)\n",
    "        if cv.waitKey(1) == ord('q'):\n",
    "            break    \n",
    "  \n",
    "    cap.release()\n",
    "    cv.destroyAllWindows()\n",
    "            "
   ]
  },
  {
   "cell_type": "code",
   "execution_count": 4,
   "metadata": {},
   "outputs": [
    {
     "name": "stdout",
     "output_type": "stream",
     "text": [
      "Creating new tracker 0\n",
      "Creating new tracker 1\n",
      "Creating new tracker 2\n",
      "Creating new tracker 3\n",
      "Creating new tracker 4\n",
      "Creating new tracker 5\n",
      "Removing roi 1 from list of trackers\n",
      "Removing roi 2 from list of trackers\n",
      "Removing roi 3 from list of trackers\n",
      "Removing roi 4 from list of trackers\n",
      "Removing roi 5 from list of trackers\n",
      "Creating new tracker 6\n",
      "Removing roi 6 from list of trackers\n",
      "Creating new tracker 7\n",
      "Creating new tracker 8\n",
      "Removing roi 8 from list of trackers\n",
      "Removing roi 7 from list of trackers\n",
      "Removing roi 0 from list of trackers\n"
     ]
    }
   ],
   "source": [
    "main()"
   ]
  },
  {
   "cell_type": "markdown",
   "metadata": {},
   "source": [
    "\n"
   ]
  }
 ],
 "metadata": {
  "kernelspec": {
   "display_name": "Python 3",
   "language": "python",
   "name": "python3"
  },
  "language_info": {
   "codemirror_mode": {
    "name": "ipython",
    "version": 3
   },
   "file_extension": ".py",
   "mimetype": "text/x-python",
   "name": "python",
   "nbconvert_exporter": "python",
   "pygments_lexer": "ipython3",
   "version": "3.6.11"
  }
 },
 "nbformat": 4,
 "nbformat_minor": 4
}
